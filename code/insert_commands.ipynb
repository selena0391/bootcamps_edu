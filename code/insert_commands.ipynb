{
 "cells": [
  {
   "cell_type": "code",
   "execution_count": 129,
   "metadata": {},
   "outputs": [],
   "source": [
    "import psycopg2\n",
    "import psycopg2.extras\n",
    "import csv\n",
    "import os\n",
    "from config2 import params2\n",
    "\n",
    "\n",
    "# SPRINT 6\n",
    "conn = psycopg2.connect(**params2)\n"
   ]
  },
  {
   "cell_type": "code",
   "execution_count": 142,
   "metadata": {},
   "outputs": [
    {
     "data": {
      "text/html": [
       "<div>\n",
       "<style scoped>\n",
       "    .dataframe tbody tr th:only-of-type {\n",
       "        vertical-align: middle;\n",
       "    }\n",
       "\n",
       "    .dataframe tbody tr th {\n",
       "        vertical-align: top;\n",
       "    }\n",
       "\n",
       "    .dataframe thead th {\n",
       "        text-align: right;\n",
       "    }\n",
       "</style>\n",
       "<table border=\"1\" class=\"dataframe\">\n",
       "  <thead>\n",
       "    <tr style=\"text-align: right;\">\n",
       "      <th></th>\n",
       "      <th>campus_location</th>\n",
       "      <th>state</th>\n",
       "    </tr>\n",
       "  </thead>\n",
       "  <tbody>\n",
       "    <tr>\n",
       "      <th>0</th>\n",
       "      <td>Online</td>\n",
       "      <td>NaN</td>\n",
       "    </tr>\n",
       "    <tr>\n",
       "      <th>1</th>\n",
       "      <td>Online</td>\n",
       "      <td>NaN</td>\n",
       "    </tr>\n",
       "    <tr>\n",
       "      <th>2</th>\n",
       "      <td>Online</td>\n",
       "      <td>NaN</td>\n",
       "    </tr>\n",
       "    <tr>\n",
       "      <th>3</th>\n",
       "      <td>Dallas</td>\n",
       "      <td>Texas</td>\n",
       "    </tr>\n",
       "    <tr>\n",
       "      <th>4</th>\n",
       "      <td>Chicago</td>\n",
       "      <td>Illinois</td>\n",
       "    </tr>\n",
       "    <tr>\n",
       "      <th>...</th>\n",
       "      <td>...</td>\n",
       "      <td>...</td>\n",
       "    </tr>\n",
       "    <tr>\n",
       "      <th>62</th>\n",
       "      <td>San Antonio - Vogue</td>\n",
       "      <td>Texas</td>\n",
       "    </tr>\n",
       "    <tr>\n",
       "      <th>63</th>\n",
       "      <td>Online</td>\n",
       "      <td>NaN</td>\n",
       "    </tr>\n",
       "    <tr>\n",
       "      <th>64</th>\n",
       "      <td>Remote</td>\n",
       "      <td>NaN</td>\n",
       "    </tr>\n",
       "    <tr>\n",
       "      <th>65</th>\n",
       "      <td>Cincinnati</td>\n",
       "      <td>Ohio</td>\n",
       "    </tr>\n",
       "    <tr>\n",
       "      <th>66</th>\n",
       "      <td>Online</td>\n",
       "      <td>NaN</td>\n",
       "    </tr>\n",
       "  </tbody>\n",
       "</table>\n",
       "<p>67 rows × 2 columns</p>\n",
       "</div>"
      ],
      "text/plain": [
       "        campus_location     state\n",
       "0                Online       NaN\n",
       "1                Online       NaN\n",
       "2                Online       NaN\n",
       "3                Dallas     Texas\n",
       "4               Chicago  Illinois\n",
       "..                  ...       ...\n",
       "62  San Antonio - Vogue     Texas\n",
       "63               Online       NaN\n",
       "64               Remote       NaN\n",
       "65           Cincinnati      Ohio\n",
       "66               Online       NaN\n",
       "\n",
       "[67 rows x 2 columns]"
      ]
     },
     "execution_count": 142,
     "metadata": {},
     "output_type": "execute_result"
    }
   ],
   "source": [
    "# opening the csv containing bootcamps data\n",
    "# to insert the data into tables in the database\n",
    "\n",
    "df = pd.read_csv(\"./../data/combined_skills.csv\")"
   ]
  },
  {
   "cell_type": "code",
   "execution_count": 131,
   "metadata": {},
   "outputs": [
    {
     "name": "stdout",
     "output_type": "stream",
     "text": [
      "[(1, 'Juno College of Technology'), (2, 'Tech Elevator'), (3, 'The Tech Academy'), (4, 'Codeup'), (5, 'Launch Academy'), (6, 'Codesmith'), (7, 'Code Chrysalis'), (8, 'Turing School of Software and Design'), (9, 'Code Platoon')]\n"
     ]
    }
   ],
   "source": [
    "# from the dataset, obtain the different school_names\n",
    "school_set = set(df[\"school_name\"])\n",
    "\n",
    "# connect to the database\n",
    "conn = psycopg2.connect(**params2)\n",
    "\n",
    "# insert into bootcamps_edu.School table\n",
    "cursor = conn.cursor()\n",
    "for sc in school_set:\n",
    "    cmd = f\"INSERT INTO bootcamps_edu.School (school_name) VALUES ('{sc}')\"\n",
    "    cursor.execute(cmd)\n",
    "\n",
    "conn.commit()\n",
    "cursor.execute(\"select * from bootcamps_edu.School\")\n",
    "school_lst = cursor.fetchall()\n",
    "conn.commit()\n",
    "conn.close()\n",
    "\n",
    "print(school_lst)\n"
   ]
  },
  {
   "cell_type": "code",
   "execution_count": 132,
   "metadata": {},
   "outputs": [
    {
     "name": "stdout",
     "output_type": "stream",
     "text": [
      "[(1, 'Full-Stack Web Development-Java'), (2, 'The Immersive Bootcamp'), (3, 'Back End Engineering'), (4, 'Software Developer BootCamp'), (5, 'Full-Stack Software Development'), (6, 'Front End Engineering'), (7, 'Full-Stack Web Development'), (8, 'Fundamentals of Web Development'), (9, 'Web Development Immersive'), (10, 'C# and .NET Boot Camp'), (11, 'Part-Time Full-Stack Web Development'), (12, 'Data Science BootCamp'), (13, 'Python Developer BootCamp'), (14, 'Data Analytics Bootcamp'), (15, 'Front-End Web Developer BootCamp')]\n"
     ]
    }
   ],
   "source": [
    "# insert into bootcamps_edu.Program table\n",
    "# from the dataset, obtain the different programs\n",
    "program_name_set = set(df[\"program_name\"])\n",
    "\n",
    "# connect to the database\n",
    "conn = psycopg2.connect(**params2)\n",
    "\n",
    "# insert into bootcamps_edu.School table\n",
    "cursor = conn.cursor()\n",
    "for pr in program_name_set:\n",
    "    cmd = f\"INSERT INTO bootcamps_edu.Program (program_name) VALUES ('{pr}')\"\n",
    "    cursor.execute(cmd)\n",
    "    #print(cmd)\n",
    "\n",
    "conn.commit()\n",
    "cursor.execute(\"select * from bootcamps_edu.Program\")\n",
    "program_lst = cursor.fetchall()\n",
    "conn.commit()\n",
    "conn.close()\n",
    "\n",
    "print(program_lst)\n",
    "\n"
   ]
  },
  {
   "cell_type": "code",
   "execution_count": 134,
   "metadata": {},
   "outputs": [
    {
     "name": "stdout",
     "output_type": "stream",
     "text": [
      "[(1, 'Massachusetts'), (2, 'Utah'), (3, 'Japan'), (4, 'Ohio'), (5, 'Texas'), (6, 'Canada'), (7, 'Delaware'), (8, 'nan'), (9, 'Illinois'), (10, 'New York'), (11, 'Pennsylvania'), (12, 'California')]\n"
     ]
    }
   ],
   "source": [
    "# insert states\n",
    "# from the dataset, obtain the different states\n",
    "state_set = set(df[\"state\"])\n",
    "\n",
    "# connect to the database\n",
    "conn = psycopg2.connect(**params2)\n",
    "\n",
    "# insert into bootcamps_edu.School table\n",
    "cursor = conn.cursor()\n",
    "for st in state_set:\n",
    "    cmd = f\"INSERT INTO bootcamps_edu.State (name) VALUES ('{st}')\"\n",
    "    cursor.execute(cmd)\n",
    "    #print(cmd)\n",
    "\n",
    "conn.commit()\n",
    "cursor.execute(\"select * from bootcamps_edu.State\")\n",
    "state_lst = cursor.fetchall()\n",
    "conn.commit()\n",
    "conn.close()\n",
    "\n",
    "print(state_lst)\n",
    "\n"
   ]
  },
  {
   "cell_type": "code",
   "execution_count": 166,
   "metadata": {},
   "outputs": [
    {
     "name": "stdout",
     "output_type": "stream",
     "text": [
      "Boston Massachusetts\n",
      "Chicago Illinois\n",
      "Columbus Ohio\n",
      "Philadelphia Pennsylvania\n",
      "Wilmington Delaware\n",
      "San Antonio - Vogue Texas\n",
      "Dallas Texas\n",
      "Toronto Canada\n",
      "Remote nan\n",
      "Tokyo Japan\n",
      "Cleveland Ohio\n",
      "San Antonio Texas\n",
      "Salt Lake City Utah\n",
      "Los Angeles California\n",
      "Cincinnati Ohio\n",
      "Pittsburgh Pennsylvania\n",
      "New York New York\n",
      "Online nan\n"
     ]
    }
   ],
   "source": [
    "locations_df = df[['campus_location', 'state']]\n",
    "\n",
    "locations_set = set()\n",
    "for v in locations_df.values:\n",
    "    #print(v[0], v[1])\n",
    "    locations_set.add((v[0], v[1]))\n",
    "\n",
    "for l in locations_set:\n",
    "    print(l[0], l[1])\n"
   ]
  },
  {
   "cell_type": "code",
   "execution_count": 122,
   "metadata": {},
   "outputs": [
    {
     "ename": "NotNullViolation",
     "evalue": "null value in column \"state_id\" of relation \"location\" violates not-null constraint\nDETAIL:  Failing row contains (1, Wilmington, null).\n",
     "output_type": "error",
     "traceback": [
      "\u001b[0;31m---------------------------------------------------------------------------\u001b[0m",
      "\u001b[0;31mNotNullViolation\u001b[0m                          Traceback (most recent call last)",
      "Cell \u001b[0;32mIn [122], line 12\u001b[0m\n\u001b[1;32m     10\u001b[0m \u001b[38;5;28;01mfor\u001b[39;00m lc \u001b[38;5;129;01min\u001b[39;00m location_set:\n\u001b[1;32m     11\u001b[0m     cmd \u001b[38;5;241m=\u001b[39m \u001b[38;5;124mf\u001b[39m\u001b[38;5;124m\"\u001b[39m\u001b[38;5;124mINSERT INTO bootcamps_edu.Location (name) VALUES (\u001b[39m\u001b[38;5;124m'\u001b[39m\u001b[38;5;132;01m{\u001b[39;00mlc\u001b[38;5;132;01m}\u001b[39;00m\u001b[38;5;124m'\u001b[39m\u001b[38;5;124m)\u001b[39m\u001b[38;5;124m\"\u001b[39m\n\u001b[0;32m---> 12\u001b[0m     \u001b[43mcursor\u001b[49m\u001b[38;5;241;43m.\u001b[39;49m\u001b[43mexecute\u001b[49m\u001b[43m(\u001b[49m\u001b[43mcmd\u001b[49m\u001b[43m)\u001b[49m\n\u001b[1;32m     13\u001b[0m     \u001b[38;5;66;03m#print(cmd)\u001b[39;00m\n\u001b[1;32m     15\u001b[0m conn\u001b[38;5;241m.\u001b[39mcommit()\n",
      "\u001b[0;31mNotNullViolation\u001b[0m: null value in column \"state_id\" of relation \"location\" violates not-null constraint\nDETAIL:  Failing row contains (1, Wilmington, null).\n"
     ]
    }
   ],
   "source": [
    "# insert into bootcamps_edu.Location table\n",
    "# from the dataset, obtain the different programs\n",
    "# P E N D I N G,  W E  N E E D  S T A TE first\n",
    "\n",
    "\n",
    "df[['campus_location', 'state']]\n",
    "\n",
    "location_set = set(df[\"campus_location\"])\n",
    "\n",
    "# connect to the database\n",
    "conn = psycopg2.connect(**params2)\n",
    "\n",
    "# insert into bootcamps_edu.Location table\n",
    "cursor = conn.cursor()\n",
    "for lc in location_set:\n",
    "    cmd = f\"INSERT INTO bootcamps_edu.Location (name) VALUES ('{lc}')\"\n",
    "    cursor.execute(cmd)\n",
    "    #print(cmd)\n",
    "\n",
    "conn.commit()\n",
    "cursor.execute(\"select * from bootcamps_edu.Location\")\n",
    "location_lst = cursor.fetchall()\n",
    "conn.commit()\n",
    "conn.close()\n",
    "\n",
    "print(location_lst)\n"
   ]
  },
  {
   "cell_type": "code",
   "execution_count": null,
   "metadata": {},
   "outputs": [],
   "source": [
    "# insert program_location\n"
   ]
  },
  {
   "cell_type": "code",
   "execution_count": null,
   "metadata": {},
   "outputs": [],
   "source": [
    "# insert program_date\n"
   ]
  },
  {
   "cell_type": "code",
   "execution_count": null,
   "metadata": {},
   "outputs": [],
   "source": []
  },
  {
   "cell_type": "code",
   "execution_count": 124,
   "metadata": {},
   "outputs": [
    {
     "name": "stdout",
     "output_type": "stream",
     "text": [
      "[(1, 'java'), (2, 'csharp_net'), (3, 'html'), (4, 'css'), (5, 'javascript'), (6, 'es6'), (7, 'jquery'), (8, 'nodejs'), (9, 'reactjs'), (10, 'redux'), (11, 'heroku'), (12, 'sql'), (13, 'mysql'), (14, 'postgress'), (15, 'mongodb'), (16, 'firebase'), (17, 'git'), (18, 'spring'), (19, 'api'), (20, 'applied_stats'), (21, 'python'), (22, 'r'), (23, 'regression'), (24, 'classification'), (25, 'clustering'), (26, 'time_series_analysis'), (27, 'anomaly_detection'), (28, 'language_processing'), (29, 'machine_learning'), (30, 'advanced_topics'), (31, 'story_telling_with_data'), (32, 'domain_expertise_development')]\n"
     ]
    }
   ],
   "source": [
    "# insert skills to the datatabase\n",
    "columns = df.columns.values.tolist()\n",
    "\n",
    "col = 0\n",
    "for c in columns:\n",
    "    #print(col, c)\n",
    "    col += 1\n",
    "\n",
    "# 4 to 35 are skills\n",
    "\n",
    "# connect to the database\n",
    "conn = psycopg2.connect(**params2)\n",
    "\n",
    "# insert into bootcamps_edu.Skill table\n",
    "cursor = conn.cursor()\n",
    "col = 0\n",
    "for c in columns:\n",
    "    if col >= 4 and col <= 35:\n",
    "        cmd = f\"INSERT INTO bootcamps_edu.Skill (skill) VALUES ('{c}')\"\n",
    "        cursor.execute(cmd)\n",
    "        #print(cmd)\n",
    "    col += 1\n",
    "\n",
    "conn.commit()\n",
    "cursor.execute(\"select * from bootcamps_edu.Skill\")\n",
    "skill_lst = cursor.fetchall()\n",
    "conn.commit()\n",
    "conn.close()\n",
    "\n",
    "print(skill_lst)\n",
    "\n"
   ]
  },
  {
   "cell_type": "code",
   "execution_count": null,
   "metadata": {},
   "outputs": [],
   "source": [
    "# insert program_skills\n"
   ]
  }
 ],
 "metadata": {
  "kernelspec": {
   "display_name": "Python 3.10.7 64-bit",
   "language": "python",
   "name": "python3"
  },
  "language_info": {
   "codemirror_mode": {
    "name": "ipython",
    "version": 3
   },
   "file_extension": ".py",
   "mimetype": "text/x-python",
   "name": "python",
   "nbconvert_exporter": "python",
   "pygments_lexer": "ipython3",
   "version": "3.10.7"
  },
  "orig_nbformat": 4,
  "vscode": {
   "interpreter": {
    "hash": "aee8b7b246df8f9039afb4144a1f6fd8d2ca17a180786b69acc140d282b71a49"
   }
  }
 },
 "nbformat": 4,
 "nbformat_minor": 2
}
