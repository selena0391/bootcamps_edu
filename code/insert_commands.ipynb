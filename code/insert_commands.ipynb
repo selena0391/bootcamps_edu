{
 "cells": [
  {
   "cell_type": "code",
   "execution_count": 274,
   "metadata": {},
   "outputs": [],
   "source": [
    "import psycopg2\n",
    "import psycopg2.extras\n",
    "import csv\n",
    "import os\n",
    "import pandas as pd\n",
    "from config2 import params2\n",
    "\n",
    "\n",
    "# SPRINT 6\n",
    "conn = psycopg2.connect(**params2)\n"
   ]
  },
  {
   "cell_type": "code",
   "execution_count": 275,
   "metadata": {},
   "outputs": [],
   "source": [
    "# opening the csv containing bootcamps data\n",
    "# to insert the data into tables in the database\n",
    "\n",
    "df = pd.read_csv(\"./../data/combined_skills.csv\")"
   ]
  },
  {
   "cell_type": "code",
   "execution_count": 276,
   "metadata": {},
   "outputs": [
    {
     "name": "stdout",
     "output_type": "stream",
     "text": [
      "[(1, 'Juno College of Technology'), (2, 'Tech Elevator'), (3, 'The Tech Academy'), (4, 'Codeup'), (5, 'Launch Academy'), (6, 'Codesmith'), (7, 'Code Chrysalis'), (8, 'Turing School of Software and Design'), (9, 'Code Platoon')]\n"
     ]
    }
   ],
   "source": [
    "# from the dataset, obtain the different school_names\n",
    "school_set = set(df[\"school_name\"])\n",
    "\n",
    "# connect to the database\n",
    "conn = psycopg2.connect(**params2)\n",
    "\n",
    "# insert into bootcamps_edu.School table\n",
    "cursor = conn.cursor()\n",
    "for sc in school_set:\n",
    "    cmd = f\"INSERT INTO bootcamps_edu.School (school_name) VALUES ('{sc}')\"\n",
    "    cursor.execute(cmd)\n",
    "\n",
    "conn.commit()\n",
    "cursor.execute(\"select * from bootcamps_edu.School\")\n",
    "school_lst = cursor.fetchall()\n",
    "conn.commit()\n",
    "conn.close()\n",
    "\n",
    "print(school_lst)\n"
   ]
  },
  {
   "cell_type": "code",
   "execution_count": 277,
   "metadata": {},
   "outputs": [
    {
     "name": "stdout",
     "output_type": "stream",
     "text": [
      "[(1, 'Full-Stack Web Development-Java'), (2, 'The Immersive Bootcamp'), (3, 'Back End Engineering'), (4, 'Software Developer BootCamp'), (5, 'Full-Stack Software Development'), (6, 'Front End Engineering'), (7, 'Full-Stack Web Development'), (8, 'Fundamentals of Web Development'), (9, 'Web Development Immersive'), (10, 'C# and .NET Boot Camp'), (11, 'Part-Time Full-Stack Web Development'), (12, 'Data Science BootCamp'), (13, 'Python Developer BootCamp'), (14, 'Data Analytics Bootcamp'), (15, 'Front-End Web Developer BootCamp')]\n"
     ]
    }
   ],
   "source": [
    "# insert into bootcamps_edu.Program table\n",
    "# from the dataset, obtain the different programs\n",
    "program_name_set = set(df[\"program_name\"])\n",
    "\n",
    "# connect to the database\n",
    "conn = psycopg2.connect(**params2)\n",
    "\n",
    "# insert into bootcamps_edu.School table\n",
    "cursor = conn.cursor()\n",
    "for pr in program_name_set:\n",
    "    cmd = f\"INSERT INTO bootcamps_edu.Program (program_name) VALUES ('{pr}')\"\n",
    "    cursor.execute(cmd)\n",
    "    #print(cmd)\n",
    "\n",
    "conn.commit()\n",
    "cursor.execute(\"select * from bootcamps_edu.Program\")\n",
    "program_lst = cursor.fetchall()\n",
    "conn.commit()\n",
    "conn.close()\n",
    "\n",
    "print(program_lst)\n",
    "\n"
   ]
  },
  {
   "cell_type": "code",
   "execution_count": 278,
   "metadata": {},
   "outputs": [
    {
     "name": "stdout",
     "output_type": "stream",
     "text": [
      "[(1, 'Massachusetts'), (2, 'Utah'), (3, 'Japan'), (4, 'Ohio'), (5, 'Texas'), (6, 'Online'), (7, 'Canada'), (8, 'Delaware'), (9, 'Illinois'), (10, 'New York'), (11, 'Pennsylvania'), (12, 'California')]\n"
     ]
    }
   ],
   "source": [
    "# insert states\n",
    "# from the dataset, obtain the different states\n",
    "state_set = set(df[\"state\"])\n",
    "\n",
    "# connect to the database\n",
    "conn = psycopg2.connect(**params2)\n",
    "\n",
    "# insert into bootcamps_edu.School table\n",
    "cursor = conn.cursor()\n",
    "for st in state_set:\n",
    "    cmd = f\"INSERT INTO bootcamps_edu.State (name) VALUES ('{st}')\"\n",
    "    cursor.execute(cmd)\n",
    "    #print(cmd)\n",
    "\n",
    "conn.commit()\n",
    "cursor.execute(\"select * from bootcamps_edu.State\")\n",
    "state_lst = cursor.fetchall()\n",
    "conn.commit()\n",
    "conn.close()\n",
    "\n",
    "print(state_lst)\n",
    "\n"
   ]
  },
  {
   "cell_type": "code",
   "execution_count": 279,
   "metadata": {},
   "outputs": [
    {
     "data": {
      "text/plain": [
       "[(1, 'Online', 6),\n",
       " (2, 'Online', 6),\n",
       " (3, 'Online', 6),\n",
       " (4, 'Dallas', 5),\n",
       " (5, 'Chicago', 9),\n",
       " (6, 'Pittsburgh', 11),\n",
       " (7, 'San Antonio', 5),\n",
       " (8, 'San Antonio', 5),\n",
       " (9, 'Chicago', 9),\n",
       " (10, 'Los Angeles', 12),\n",
       " (11, 'Remote', 6),\n",
       " (12, 'Cleveland', 4),\n",
       " (13, 'Columbus', 4),\n",
       " (14, 'San Antonio', 5),\n",
       " (15, 'San Antonio', 5),\n",
       " (16, 'Cincinnati', 4),\n",
       " (17, 'Chicago', 9),\n",
       " (18, 'Remote', 6),\n",
       " (19, 'Philadelphia', 11),\n",
       " (20, 'Online', 6),\n",
       " (21, 'Toronto', 7),\n",
       " (22, 'Online', 6),\n",
       " (23, 'Online', 6),\n",
       " (24, 'New York', 10),\n",
       " (25, 'Salt Lake City', 2),\n",
       " (26, 'Remote', 6),\n",
       " (27, 'Cleveland', 4),\n",
       " (28, 'Columbus', 4),\n",
       " (29, 'Tokyo', 3),\n",
       " (30, 'San Antonio - Vogue', 5),\n",
       " (31, 'Dallas', 5),\n",
       " (32, 'Cincinnati', 4),\n",
       " (33, 'Dallas', 5),\n",
       " (34, 'Chicago', 9),\n",
       " (35, 'Boston', 1),\n",
       " (36, 'San Antonio - Vogue', 5),\n",
       " (37, 'Pittsburgh', 11),\n",
       " (38, 'Remote', 6),\n",
       " (39, 'Online', 6),\n",
       " (40, 'Remote', 6),\n",
       " (41, 'Online', 6),\n",
       " (42, 'Online', 6),\n",
       " (43, 'Remote', 6),\n",
       " (44, 'Philadelphia', 11),\n",
       " (45, 'Online', 6),\n",
       " (46, 'Toronto', 7),\n",
       " (47, 'Online', 6),\n",
       " (48, 'Online', 6),\n",
       " (49, 'Toronto', 7),\n",
       " (50, 'Online', 6),\n",
       " (51, 'Online', 6),\n",
       " (52, 'Remote', 6),\n",
       " (53, 'Wilmington', 8),\n",
       " (54, 'Cleveland', 4),\n",
       " (55, 'Dallas', 5),\n",
       " (56, 'Boston', 1),\n",
       " (57, 'Columbus', 4),\n",
       " (58, 'Wilmington', 8),\n",
       " (59, 'Pittsburgh', 11),\n",
       " (60, 'San Antonio - Vogue', 5),\n",
       " (61, 'Philadelphia', 11),\n",
       " (62, 'Chicago', 9),\n",
       " (63, 'San Antonio - Vogue', 5),\n",
       " (64, 'Online', 6),\n",
       " (65, 'Remote', 6),\n",
       " (66, 'Cincinnati', 4),\n",
       " (67, 'Online', 6)]"
      ]
     },
     "execution_count": 279,
     "metadata": {},
     "output_type": "execute_result"
    }
   ],
   "source": [
    "# table bootcamps_edu.Location\n",
    "#\tid int PRIMARY KEY GENERATED BY DEFAULT AS IDENTITY,\n",
    "#\tname varchar(50) not null,\n",
    "#\tstate_id int not null REFERENCES bootcamps_edu.State (id)\n",
    "\n",
    "# in the csv we have location (city), and state name\n",
    "# we need to relate location (city) from csv, and state name from csv\n",
    "# then get state id from table, using the state name\n",
    "# then insert into table Location: location name and state_id\n",
    "\n",
    "# get campus_location and state from csv (df)\n",
    "locations_df = df[['campus_location', 'state']]\n",
    "\n",
    "locations_lst = locations_df.values.tolist()\n",
    "\n",
    "# connect to the database\n",
    "conn = psycopg2.connect(**params2)\n",
    "\n",
    "# get the states\n",
    "cursor = conn.cursor()\n",
    "cursor.execute(\"select * from bootcamps_edu.State\")\n",
    "state_lst = cursor.fetchall()\n",
    "conn.commit()\n",
    "\n",
    "states_df = pd.DataFrame(data=state_lst,columns=[\"id\", \"state\"])\n",
    "\n",
    "states_df\n",
    "\n",
    "for l in locations_lst:\n",
    "    id = states_df[states_df[\"state\"] == l[1]][\"id\"]\n",
    "    cmd = f\"INSERT INTO bootcamps_edu.Location (name, state_id) VALUES ('{l[0]}', {int(id.values)})\"\n",
    "    cursor.execute(cmd)\n",
    "\n",
    "conn.commit()\n",
    "cursor.execute(\"select * from bootcamps_edu.Location\")\n",
    "location_lst = cursor.fetchall()\n",
    "conn.commit()\n",
    "conn.close()\n",
    "\n",
    "location_lst\n",
    "\n"
   ]
  },
  {
   "cell_type": "code",
   "execution_count": null,
   "metadata": {},
   "outputs": [],
   "source": [
    "# insert program_location\n"
   ]
  },
  {
   "cell_type": "code",
   "execution_count": null,
   "metadata": {},
   "outputs": [],
   "source": [
    "# insert program_date\n"
   ]
  },
  {
   "cell_type": "code",
   "execution_count": null,
   "metadata": {},
   "outputs": [],
   "source": []
  },
  {
   "cell_type": "code",
   "execution_count": 280,
   "metadata": {},
   "outputs": [
    {
     "name": "stdout",
     "output_type": "stream",
     "text": [
      "[(1, 'java'), (2, 'csharp_net'), (3, 'html'), (4, 'css'), (5, 'javascript'), (6, 'es6'), (7, 'jquery'), (8, 'nodejs'), (9, 'reactjs'), (10, 'redux'), (11, 'heroku'), (12, 'sql'), (13, 'mysql'), (14, 'postgress'), (15, 'mongodb'), (16, 'firebase'), (17, 'git'), (18, 'spring'), (19, 'api'), (20, 'applied_stats'), (21, 'python'), (22, 'r'), (23, 'regression'), (24, 'classification'), (25, 'clustering'), (26, 'time_series_analysis'), (27, 'anomaly_detection'), (28, 'language_processing'), (29, 'machine_learning'), (30, 'advanced_topics'), (31, 'story_telling_with_data'), (32, 'domain_expertise_development')]\n"
     ]
    }
   ],
   "source": [
    "# insert skills to the datatabase\n",
    "columns = df.columns.values.tolist()\n",
    "\n",
    "col = 0\n",
    "for c in columns:\n",
    "    #print(col, c)\n",
    "    col += 1\n",
    "\n",
    "# 4 to 35 are skills\n",
    "\n",
    "# connect to the database\n",
    "conn = psycopg2.connect(**params2)\n",
    "\n",
    "# insert into bootcamps_edu.Skill table\n",
    "cursor = conn.cursor()\n",
    "col = 0\n",
    "for c in columns:\n",
    "    if col >= 4 and col <= 35:\n",
    "        cmd = f\"INSERT INTO bootcamps_edu.Skill (skill) VALUES ('{c}')\"\n",
    "        cursor.execute(cmd)\n",
    "        #print(cmd)\n",
    "    col += 1\n",
    "\n",
    "conn.commit()\n",
    "cursor.execute(\"select * from bootcamps_edu.Skill\")\n",
    "skill_lst = cursor.fetchall()\n",
    "conn.commit()\n",
    "conn.close()\n",
    "\n",
    "print(skill_lst)\n",
    "\n"
   ]
  },
  {
   "cell_type": "code",
   "execution_count": null,
   "metadata": {},
   "outputs": [],
   "source": [
    "# insert program_skills\n"
   ]
  }
 ],
 "metadata": {
  "kernelspec": {
   "display_name": "Python 3.10.7 64-bit",
   "language": "python",
   "name": "python3"
  },
  "language_info": {
   "codemirror_mode": {
    "name": "ipython",
    "version": 3
   },
   "file_extension": ".py",
   "mimetype": "text/x-python",
   "name": "python",
   "nbconvert_exporter": "python",
   "pygments_lexer": "ipython3",
   "version": "3.10.7"
  },
  "orig_nbformat": 4,
  "vscode": {
   "interpreter": {
    "hash": "aee8b7b246df8f9039afb4144a1f6fd8d2ca17a180786b69acc140d282b71a49"
   }
  }
 },
 "nbformat": 4,
 "nbformat_minor": 2
}
