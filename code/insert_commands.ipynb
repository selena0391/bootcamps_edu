{
 "cells": [
  {
   "cell_type": "code",
   "execution_count": 83,
   "metadata": {},
   "outputs": [],
   "source": [
    "import psycopg2\n",
    "import psycopg2.extras\n",
    "import csv\n",
    "import os\n",
    "from config2 import params2\n",
    "\n",
    "\n",
    "# SPRINT 6\n",
    "conn = psycopg2.connect(**params2)\n"
   ]
  },
  {
   "cell_type": "code",
   "execution_count": 84,
   "metadata": {},
   "outputs": [
    {
     "data": {
      "text/plain": [
       "(67, 58)"
      ]
     },
     "execution_count": 84,
     "metadata": {},
     "output_type": "execute_result"
    }
   ],
   "source": [
    "# opening the csv containing bootcamps data\n",
    "df = pd.read_csv(\"./../data/combined_skills.csv\")\n",
    "\n",
    "df.shape"
   ]
  },
  {
   "cell_type": "code",
   "execution_count": 86,
   "metadata": {},
   "outputs": [
    {
     "name": "stdout",
     "output_type": "stream",
     "text": [
      "[(1, 'Juno College of Technology'), (2, 'Tech Elevator'), (3, 'The Tech Academy'), (4, 'Codeup'), (5, 'Launch Academy'), (6, 'Codesmith'), (7, 'Code Chrysalis'), (8, 'Turing School of Software and Design'), (9, 'Codeup, LLC'), (10, 'Code Platoon')]\n"
     ]
    }
   ],
   "source": [
    "\n",
    "school_set = set(df[\"school_name\"])\n",
    "\n",
    "conn = psycopg2.connect(**params2)\n",
    "\n",
    "# insert into bootcamps_edu.School table\n",
    "\n",
    "cursor = conn.cursor()\n",
    "for sc in school_set:\n",
    "    cmd = f\"INSERT INTO bootcamps_edu.School (school_name) VALUES ('{sc}')\"\n",
    "    cursor.execute(cmd)\n",
    "conn.commit()\n",
    "cursor.execute(\"select * from bootcamps_edu.School\")\n",
    "school_lst = cursor.fetchall()\n",
    "conn.commit()\n",
    "conn.close()\n",
    "\n",
    "print(school_lst)\n"
   ]
  }
 ],
 "metadata": {
  "kernelspec": {
   "display_name": "Python 3.10.7 64-bit",
   "language": "python",
   "name": "python3"
  },
  "language_info": {
   "codemirror_mode": {
    "name": "ipython",
    "version": 3
   },
   "file_extension": ".py",
   "mimetype": "text/x-python",
   "name": "python",
   "nbconvert_exporter": "python",
   "pygments_lexer": "ipython3",
   "version": "3.10.7"
  },
  "orig_nbformat": 4,
  "vscode": {
   "interpreter": {
    "hash": "aee8b7b246df8f9039afb4144a1f6fd8d2ca17a180786b69acc140d282b71a49"
   }
  }
 },
 "nbformat": 4,
 "nbformat_minor": 2
}
